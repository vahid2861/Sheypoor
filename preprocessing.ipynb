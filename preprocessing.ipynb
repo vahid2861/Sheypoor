{
 "cells": [
  {
   "cell_type": "code",
   "execution_count": 193,
   "metadata": {},
   "outputs": [],
   "source": [
    "import sqlite3\n",
    "import pandas as pd\n",
    "import numpy as np\n",
    "import re"
   ]
  },
  {
   "cell_type": "code",
   "execution_count": 194,
   "metadata": {},
   "outputs": [],
   "source": [
    "conn=sqlite3.connect('posts.db')"
   ]
  },
  {
   "cell_type": "code",
   "execution_count": 225,
   "metadata": {},
   "outputs": [],
   "source": [
    "df=pd.read_sql_query('select * from info',con=conn)\n",
    "df['option']=df['option'].apply(eval)\n",
    "df=pd.concat([df.drop(['option'],axis=1),pd.io.json.json_normalize(df['option'])],axis=1)\n",
    "df.columns=['id','post_id','tite','description','price','create_time','location','elevator','storage','rooms','age','ppm','meter','type','parking']\n",
    "df[['state','county','region']]= df['location'].str.split('،',n=2,expand=True)\n",
    "df=df.drop('location',axis=1)"
   ]
  },
  {
   "cell_type": "code",
   "execution_count": 226,
   "metadata": {},
   "outputs": [],
   "source": [
    "df=df.dropna(subset=['ppm'])"
   ]
  },
  {
   "cell_type": "code",
   "execution_count": 227,
   "metadata": {},
   "outputs": [],
   "source": [
    "df['price']=df['price'].str.replace(\"تومان\",\"\")\n",
    "df['price']=df['price'].str.replace(\",\",\"\")\n"
   ]
  },
  {
   "cell_type": "code",
   "execution_count": 228,
   "metadata": {},
   "outputs": [],
   "source": [
    "df['meter']=df['meter'].str.replace(',','')\n",
    "df['meter']=df['meter'].astype('int64')"
   ]
  },
  {
   "cell_type": "code",
   "execution_count": 229,
   "metadata": {},
   "outputs": [],
   "source": [
    "df['ppm']=df['ppm'].str.replace(',','')\n",
    "df['ppm']=df['ppm'].astype('int64')"
   ]
  },
  {
   "cell_type": "code",
   "execution_count": 230,
   "metadata": {},
   "outputs": [],
   "source": [
    "df['price']=np.where(df['price']=='قیمت توافقی',df['meter']*df['ppm'],df['price'])\n",
    "df['price']=df['price'].astype('float')"
   ]
  },
  {
   "cell_type": "code",
   "execution_count": 231,
   "metadata": {},
   "outputs": [],
   "source": [
    "# code ha ta inja baraye soton price bood"
   ]
  },
  {
   "cell_type": "code",
   "execution_count": 232,
   "metadata": {},
   "outputs": [],
   "source": [
    "df['parking']=np.where(df['parking']==' دارد ',1,0)"
   ]
  },
  {
   "cell_type": "code",
   "execution_count": 233,
   "metadata": {},
   "outputs": [],
   "source": [
    "df['elevator']=np.where(df['elevator']==' دارد ',1,0)"
   ]
  },
  {
   "cell_type": "code",
   "execution_count": 234,
   "metadata": {},
   "outputs": [],
   "source": [
    "df['storage']=np.where(df['storage']==' دارد ',1,0)"
   ]
  },
  {
   "cell_type": "code",
   "execution_count": 235,
   "metadata": {},
   "outputs": [
    {
     "name": "stderr",
     "output_type": "stream",
     "text": [
      "C:\\ProgramData\\Anaconda3\\lib\\site-packages\\ipykernel_launcher.py:2: SettingWithCopyWarning: \n",
      "A value is trying to be set on a copy of a slice from a DataFrame\n",
      "\n",
      "See the caveats in the documentation: http://pandas.pydata.org/pandas-docs/stable/indexing.html#indexing-view-versus-copy\n",
      "  \n"
     ]
    }
   ],
   "source": [
    "df['age']=df['age'].apply(lambda x: re.sub(r'\\D','',x))\n",
    "df['age'][df['age']=='']=1\n",
    "df['age']=df['age'].astype('int64')"
   ]
  },
  {
   "cell_type": "code",
   "execution_count": 236,
   "metadata": {},
   "outputs": [],
   "source": [
    "df=df.drop('state',axis=1)"
   ]
  },
  {
   "cell_type": "code",
   "execution_count": 237,
   "metadata": {},
   "outputs": [],
   "source": [
    "mapping_dict = {\n",
    "    ' 1 ': 1,\n",
    "    ' 2 ': 2,\n",
    "    ' ۲ ': 2,\n",
    "    ' 3 ': 3,\n",
    "    ' ۳ ': 3,\n",
    "    ' 5 به بالا ': 5,\n",
    "    ' ۵ به بالا ': 5,\n",
    "    ' 4 ': 4,\n",
    "    ' ۴ ': 4,\n",
    "    ' ۱ ': 1,\n",
    "    ' بدون اتاق ': 0,\n",
    "}\n",
    "df['rooms']=df['rooms'].map(mapping_dict)"
   ]
  },
  {
   "cell_type": "code",
   "execution_count": 238,
   "metadata": {},
   "outputs": [],
   "source": [
    "df.to_excel('house.xlsx')"
   ]
  },
  {
   "cell_type": "code",
   "execution_count": null,
   "metadata": {},
   "outputs": [],
   "source": []
  }
 ],
 "metadata": {
  "kernelspec": {
   "display_name": "Python 3",
   "language": "python",
   "name": "python3"
  },
  "language_info": {
   "codemirror_mode": {
    "name": "ipython",
    "version": 3
   },
   "file_extension": ".py",
   "mimetype": "text/x-python",
   "name": "python",
   "nbconvert_exporter": "python",
   "pygments_lexer": "ipython3",
   "version": "3.7.3"
  }
 },
 "nbformat": 4,
 "nbformat_minor": 4
}
