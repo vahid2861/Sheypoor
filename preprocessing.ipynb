{
 "cells": [
  {
   "cell_type": "code",
   "execution_count": 91,
   "metadata": {},
   "outputs": [],
   "source": [
    "import sqlite3\n",
    "import pandas as pd\n",
    "import numpy as np"
   ]
  },
  {
   "cell_type": "code",
   "execution_count": 92,
   "metadata": {},
   "outputs": [],
   "source": [
    "conn=sqlite3.connect('posts.db')"
   ]
  },
  {
   "cell_type": "code",
   "execution_count": 93,
   "metadata": {},
   "outputs": [],
   "source": [
    "df=pd.read_sql_query('select * from info',con=conn)\n",
    "df['option']=df['option'].apply(eval)\n",
    "df=pd.concat([df.drop(['option'],axis=1),pd.io.json.json_normalize(df['option'])],axis=1)\n",
    "df.columns=['id','post_id','tite','description','price','create_time','location','elevator','storage','rooms','age','ppm','meter','type','parking']"
   ]
  },
  {
   "cell_type": "code",
   "execution_count": 94,
   "metadata": {},
   "outputs": [],
   "source": [
    "df=df.dropna()"
   ]
  },
  {
   "cell_type": "code",
   "execution_count": 95,
   "metadata": {
    "collapsed": true,
    "jupyter": {
     "outputs_hidden": true
    }
   },
   "outputs": [
    {
     "data": {
      "text/plain": [
       "2         3,200,000,000 تومان\n",
       "3         2,950,000,000 تومان\n",
       "4         2,850,000,000 تومان\n",
       "5             3,900,000 تومان\n",
       "6         2,900,000,000 تومان\n",
       "7         3,370,000,000 تومان\n",
       "8         2,650,000,000 تومان\n",
       "9        12,100,000,000 تومان\n",
       "10        2,856,600,000 تومان\n",
       "11        2,550,000,000 تومان\n",
       "12        3,256,000,000 تومان\n",
       "13        2,940,000,000 تومان\n",
       "14        2,690,000,000 تومان\n",
       "15        2,850,000,000 تومان\n",
       "16        7,000,000,000 تومان\n",
       "17                قیمت توافقی\n",
       "18       12,650,000,000 تومان\n",
       "19       18,000,000,000 تومان\n",
       "20       12,000,000,000 تومان\n",
       "21       14,950,000,000 تومان\n",
       "22       16,200,000,000 تومان\n",
       "23        1,800,000,000 تومان\n",
       "24        3,880,000,000 تومان\n",
       "25        2,800,000,000 تومان\n",
       "26       38,000,000,000 تومان\n",
       "27        2,820,000,000 تومان\n",
       "28        3,880,000,000 تومان\n",
       "29        3,750,000,000 تومان\n",
       "30        3,880,000,000 تومان\n",
       "31        3,300,000,000 تومان\n",
       "                 ...         \n",
       "13327    10,800,000,000 تومان\n",
       "13328     1,250,000,000 تومان\n",
       "13329     3,700,000,000 تومان\n",
       "13330     4,000,000,000 تومان\n",
       "13331     1,900,000,000 تومان\n",
       "13332     3,400,000,000 تومان\n",
       "13333     7,600,000,000 تومان\n",
       "13334     1,560,000,000 تومان\n",
       "13335     4,500,000,000 تومان\n",
       "13336    12,000,000,000 تومان\n",
       "13337     8,200,000,000 تومان\n",
       "13338     6,160,000,000 تومان\n",
       "13339             قیمت توافقی\n",
       "13340     1,500,000,000 تومان\n",
       "13341     2,500,000,000 تومان\n",
       "13342     1,580,000,000 تومان\n",
       "13343             قیمت توافقی\n",
       "13344     4,700,000,000 تومان\n",
       "13345     4,700,000,000 تومان\n",
       "13346             قیمت توافقی\n",
       "13347     1,680,000,000 تومان\n",
       "13348    13,500,000,000 تومان\n",
       "13349    19,750,000,000 تومان\n",
       "13350     6,000,000,000 تومان\n",
       "13351     6,950,000,000 تومان\n",
       "13352     7,600,000,000 تومان\n",
       "13353    10,000,000,000 تومان\n",
       "13354    11,000,000,000 تومان\n",
       "13355     2,900,000,000 تومان\n",
       "13356     7,900,000,000 تومان\n",
       "Name: price, Length: 13329, dtype: object"
      ]
     },
     "execution_count": 95,
     "metadata": {},
     "output_type": "execute_result"
    }
   ],
   "source": [
    "df.price"
   ]
  },
  {
   "cell_type": "code",
   "execution_count": 96,
   "metadata": {},
   "outputs": [],
   "source": [
    "df['price']=df['price'].str.replace(\"تومان\",\"\")\n",
    "df['price']=df['price'].str.replace(\",\",\"\")\n"
   ]
  },
  {
   "cell_type": "code",
   "execution_count": 97,
   "metadata": {
    "collapsed": true,
    "jupyter": {
     "outputs_hidden": true
    }
   },
   "outputs": [
    {
     "data": {
      "text/plain": [
       "2         3200000000 \n",
       "3         2950000000 \n",
       "4         2850000000 \n",
       "5            3900000 \n",
       "6         2900000000 \n",
       "7         3370000000 \n",
       "8         2650000000 \n",
       "9        12100000000 \n",
       "10        2856600000 \n",
       "11        2550000000 \n",
       "12        3256000000 \n",
       "13        2940000000 \n",
       "14        2690000000 \n",
       "15        2850000000 \n",
       "16        7000000000 \n",
       "17        قیمت توافقی\n",
       "18       12650000000 \n",
       "19       18000000000 \n",
       "20       12000000000 \n",
       "21       14950000000 \n",
       "22       16200000000 \n",
       "23        1800000000 \n",
       "24        3880000000 \n",
       "25        2800000000 \n",
       "26       38000000000 \n",
       "27        2820000000 \n",
       "28        3880000000 \n",
       "29        3750000000 \n",
       "30        3880000000 \n",
       "31        3300000000 \n",
       "             ...     \n",
       "13327    10800000000 \n",
       "13328     1250000000 \n",
       "13329     3700000000 \n",
       "13330     4000000000 \n",
       "13331     1900000000 \n",
       "13332     3400000000 \n",
       "13333     7600000000 \n",
       "13334     1560000000 \n",
       "13335     4500000000 \n",
       "13336    12000000000 \n",
       "13337     8200000000 \n",
       "13338     6160000000 \n",
       "13339     قیمت توافقی\n",
       "13340     1500000000 \n",
       "13341     2500000000 \n",
       "13342     1580000000 \n",
       "13343     قیمت توافقی\n",
       "13344     4700000000 \n",
       "13345     4700000000 \n",
       "13346     قیمت توافقی\n",
       "13347     1680000000 \n",
       "13348    13500000000 \n",
       "13349    19750000000 \n",
       "13350     6000000000 \n",
       "13351     6950000000 \n",
       "13352     7600000000 \n",
       "13353    10000000000 \n",
       "13354    11000000000 \n",
       "13355     2900000000 \n",
       "13356     7900000000 \n",
       "Name: price, Length: 13329, dtype: object"
      ]
     },
     "execution_count": 97,
     "metadata": {},
     "output_type": "execute_result"
    }
   ],
   "source": [
    "df.price\n"
   ]
  },
  {
   "cell_type": "code",
   "execution_count": 98,
   "metadata": {},
   "outputs": [],
   "source": [
    "df['meter']=df['meter'].str.replace(',','')\n",
    "df['meter']=df['meter'].astype('int64')"
   ]
  },
  {
   "cell_type": "code",
   "execution_count": 99,
   "metadata": {},
   "outputs": [],
   "source": [
    "df['ppm']=df['ppm'].str.replace(',','')\n",
    "df['ppm']=df['ppm'].astype('int64')"
   ]
  },
  {
   "cell_type": "code",
   "execution_count": 100,
   "metadata": {
    "collapsed": true,
    "jupyter": {
     "outputs_hidden": true
    }
   },
   "outputs": [
    {
     "name": "stdout",
     "output_type": "stream",
     "text": [
      "<class 'pandas.core.frame.DataFrame'>\n",
      "Int64Index: 13329 entries, 2 to 13356\n",
      "Data columns (total 15 columns):\n",
      "id             13329 non-null int64\n",
      "post_id        13329 non-null int64\n",
      "tite           13329 non-null object\n",
      "description    13329 non-null object\n",
      "price          13329 non-null object\n",
      "create_time    13329 non-null object\n",
      "location       13329 non-null object\n",
      "elevator       13329 non-null object\n",
      "storage        13329 non-null object\n",
      "rooms          13329 non-null object\n",
      "age            13329 non-null object\n",
      "ppm            13329 non-null int64\n",
      "meter          13329 non-null int64\n",
      "type           13329 non-null object\n",
      "parking        13329 non-null object\n",
      "dtypes: int64(4), object(11)\n",
      "memory usage: 1.6+ MB\n"
     ]
    }
   ],
   "source": [
    "df.info()"
   ]
  },
  {
   "cell_type": "code",
   "execution_count": 101,
   "metadata": {
    "collapsed": true,
    "jupyter": {
     "outputs_hidden": true
    }
   },
   "outputs": [
    {
     "data": {
      "text/plain": [
       "id              int64\n",
       "post_id         int64\n",
       "tite           object\n",
       "description    object\n",
       "price          object\n",
       "create_time    object\n",
       "location       object\n",
       "elevator       object\n",
       "storage        object\n",
       "rooms          object\n",
       "age            object\n",
       "ppm             int64\n",
       "meter           int64\n",
       "type           object\n",
       "parking        object\n",
       "dtype: object"
      ]
     },
     "execution_count": 101,
     "metadata": {},
     "output_type": "execute_result"
    }
   ],
   "source": [
    "df.dtypes"
   ]
  },
  {
   "cell_type": "code",
   "execution_count": 106,
   "metadata": {},
   "outputs": [],
   "source": [
    "df['price']=np.where(df['price']=='قیمت توافقی',df['meter']*df['ppm'],df['price'])\n",
    "df['price']=df['price'].astype('float')"
   ]
  },
  {
   "cell_type": "code",
   "execution_count": 107,
   "metadata": {},
   "outputs": [
    {
     "name": "stdout",
     "output_type": "stream",
     "text": [
      "<class 'pandas.core.frame.DataFrame'>\n",
      "Int64Index: 13329 entries, 2 to 13356\n",
      "Data columns (total 15 columns):\n",
      "id             13329 non-null int64\n",
      "post_id        13329 non-null int64\n",
      "tite           13329 non-null object\n",
      "description    13329 non-null object\n",
      "price          13329 non-null float64\n",
      "create_time    13329 non-null object\n",
      "location       13329 non-null object\n",
      "elevator       13329 non-null object\n",
      "storage        13329 non-null object\n",
      "rooms          13329 non-null object\n",
      "age            13329 non-null object\n",
      "ppm            13329 non-null int64\n",
      "meter          13329 non-null int64\n",
      "type           13329 non-null object\n",
      "parking        13329 non-null object\n",
      "dtypes: float64(1), int64(4), object(10)\n",
      "memory usage: 1.6+ MB\n"
     ]
    }
   ],
   "source": [
    "df.info()"
   ]
  },
  {
   "cell_type": "code",
   "execution_count": 104,
   "metadata": {},
   "outputs": [],
   "source": [
    "# code ha ta inja baraye soton price bood"
   ]
  },
  {
   "cell_type": "code",
   "execution_count": null,
   "metadata": {},
   "outputs": [],
   "source": []
  }
 ],
 "metadata": {
  "kernelspec": {
   "display_name": "Python 3",
   "language": "python",
   "name": "python3"
  },
  "language_info": {
   "codemirror_mode": {
    "name": "ipython",
    "version": 3
   },
   "file_extension": ".py",
   "mimetype": "text/x-python",
   "name": "python",
   "nbconvert_exporter": "python",
   "pygments_lexer": "ipython3",
   "version": "3.7.3"
  }
 },
 "nbformat": 4,
 "nbformat_minor": 4
}
