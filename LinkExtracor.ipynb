{
 "cells": [
  {
   "cell_type": "code",
   "execution_count": 1,
   "id": "50e0269e",
   "metadata": {},
   "outputs": [],
   "source": [
    "import pandas as pd\n",
    "from bs4 import BeautifulSoup\n",
    "import requests\n",
    "import time\n",
    "import numpy as np\n",
    "import sqlite3\n",
    "from datetime import date,datetime,timedelta\n",
    "import schedule"
   ]
  },
  {
   "cell_type": "code",
   "execution_count": 2,
   "id": "070c76bd",
   "metadata": {},
   "outputs": [],
   "source": [
    "headers = {\n",
    "    'Accept-Encoding': 'gzip, deflate, sdch',\n",
    "    'Accept-Language': 'en-US,en;q=0.8',\n",
    "    'Upgrade-Insecure-Requests': '1',\n",
    "    'User-Agent': 'Mozilla/5.0 (X11; Linux x86_64) AppleWebKit/537.36 (KHTML, like Gecko) Chrome/56.0.2924.87 Safari/537.36',\n",
    "    'Accept': 'text/html,application/xhtml+xml,application/xml;q=0.9,image/webp,*/*;q=0.8',\n",
    "    'Cache-Control': 'max-age=0',\n",
    "    'Connection': 'keep-alive',\n",
    "}"
   ]
  },
  {
   "cell_type": "code",
   "execution_count": null,
   "id": "5732c44d",
   "metadata": {},
   "outputs": [
    {
     "name": "stdout",
     "output_type": "stream",
     "text": [
      "44\r"
     ]
    }
   ],
   "source": [
    "def LinkExtractor():\n",
    "    a=0\n",
    "    while True:    \n",
    "        # set up connection to sqlite3 database\n",
    "        conn = sqlite3.connect('posts.db')\n",
    "        c = conn.cursor()\n",
    "\n",
    "        # create a table to store links\n",
    "        c.execute('''CREATE TABLE IF NOT EXISTS posts (link TEXT PRIMARY KEY, is_crawled INTEGER, Created_date TEXT )''')\n",
    "\n",
    "        # specify the URL of the Facebook page\n",
    "        link='https://www.sheypoor.com/%D8%A7%D8%B3%D8%AA%D8%A7%D9%86-%D8%AA%D9%87%D8%B1%D8%A7%D9%86/%D8%A7%D9%85%D9%84%D8%A7%DA%A9/%D8%AE%D8%B1%DB%8C%D8%AF-%D9%81%D8%B1%D9%88%D8%B4-%D8%AE%D8%A7%D9%86%D9%87-%D8%A2%D9%BE%D8%A7%D8%B1%D8%AA%D9%85%D8%A7%D9%86'\n",
    "\n",
    "        # make a request to the URL\n",
    "        html_text=requests.get(link+'?p='+str(a+1), headers=headers)\n",
    "\n",
    "        # parse the HTML content using BeautifulSoup\n",
    "        soup = BeautifulSoup(html_text.content,'lxml')\n",
    "\n",
    "        # find all the links to posts on the page\n",
    "        posts=soup.find_all('article',class_='serp-item list')\n",
    "\n",
    "        # save the links to the database\n",
    "        for link in posts:\n",
    "            post_link = link.find('a').get('href')\n",
    "            post_date = datetime.strptime(link.find('time')['datetime'], '%Y-%m-%d %H:%M:%S.%f').date()\n",
    "            if post_date < date.today()- timedelta(days=1):\n",
    "                break\n",
    "            else:\n",
    "                c.execute(\"INSERT OR IGNORE INTO posts (link,is_crawled,Created_date) VALUES (?,?,?)\", (post_link,0,post_date))\n",
    "                conn.commit()\n",
    "        if post_date < date.today()- timedelta(days=1):\n",
    "        # We've gone past the target date, so we can exit the loop\n",
    "            break\n",
    "        # close the database connection\n",
    "        conn.close()\n",
    "        a=a+1\n",
    "        print(a,end=\"\\r\")\n",
    "\n",
    "        \n",
    "        \n",
    "schedule.every().day.at(\"00:10\").do(LinkExtractor)\n",
    "\n",
    "while True:\n",
    "    schedule.run_pending()\n",
    "    time.sleep(60) # Wait for 1 minute"
   ]
  }
 ],
 "metadata": {
  "kernelspec": {
   "display_name": "Python 3 (ipykernel)",
   "language": "python",
   "name": "python3"
  },
  "language_info": {
   "codemirror_mode": {
    "name": "ipython",
    "version": 3
   },
   "file_extension": ".py",
   "mimetype": "text/x-python",
   "name": "python",
   "nbconvert_exporter": "python",
   "pygments_lexer": "ipython3",
   "version": "3.9.7"
  }
 },
 "nbformat": 4,
 "nbformat_minor": 5
}
